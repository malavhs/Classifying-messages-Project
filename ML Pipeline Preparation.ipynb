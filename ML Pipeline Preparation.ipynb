{
 "cells": [
  {
   "cell_type": "markdown",
   "metadata": {},
   "source": [
    "# ML Pipeline Preparation\n",
    "Follow the instructions below to help you create your ML pipeline.\n",
    "### 1. Import libraries and load data from database.\n",
    "- Import Python libraries\n",
    "- Load dataset from database with [`read_sql_table`](https://pandas.pydata.org/pandas-docs/stable/generated/pandas.read_sql_table.html)\n",
    "- Define feature and target variables X and Y"
   ]
  },
  {
   "cell_type": "code",
   "execution_count": 11,
   "metadata": {},
   "outputs": [
    {
     "name": "stdout",
     "output_type": "stream",
     "text": [
      "[nltk_data] Downloading package punkt to /root/nltk_data...\n",
      "[nltk_data]   Package punkt is already up-to-date!\n",
      "[nltk_data] Downloading package wordnet to /root/nltk_data...\n",
      "[nltk_data]   Package wordnet is already up-to-date!\n",
      "[nltk_data] Downloading package stopwords to /root/nltk_data...\n",
      "[nltk_data]   Package stopwords is already up-to-date!\n",
      "[nltk_data] Downloading package words to /root/nltk_data...\n",
      "[nltk_data]   Package words is already up-to-date!\n"
     ]
    }
   ],
   "source": [
    "# import libraries\n",
    "import pandas as pd\n",
    "import numpy as np\n",
    "from sqlalchemy import create_engine\n",
    "import re \n",
    "import nltk\n",
    "nltk.download(['punkt', 'wordnet','stopwords','words'])\n",
    "from nltk.tokenize import word_tokenize\n",
    "from nltk.stem import WordNetLemmatizer,PorterStemmer\n",
    "from nltk.corpus import stopwords\n",
    "from sklearn.base import BaseEstimator, TransformerMixin\n",
    "from sklearn.pipeline import Pipeline, FeatureUnion\n",
    "from sklearn.feature_extraction.text import CountVectorizer, TfidfTransformer\n",
    "from sklearn.multioutput import MultiOutputClassifier\n",
    "from sklearn.ensemble import RandomForestClassifier\n",
    "from sklearn.metrics import confusion_matrix\n",
    "from sklearn.metrics import roc_auc_score\n",
    "from sklearn.metrics import classification_report\n",
    "from sklearn.model_selection import train_test_split\n",
    "import joblib\n",
    "from sklearn.model_selection import GridSearchCV\n",
    "from sklearn.tree import DecisionTreeClassifier\n",
    "from sklearn.ensemble import RandomForestClassifier, AdaBoostClassifier\n"
   ]
  },
  {
   "cell_type": "code",
   "execution_count": 12,
   "metadata": {},
   "outputs": [],
   "source": [
    "# load data from database\n",
    "engine = create_engine('sqlite:///test_DB.db')\n",
    "df = pd.read_sql_table('test_table',engine)\n",
    "X = df['message']\n",
    "y = df.iloc[:, 3:]\n",
    "category_names = y.columns"
   ]
  },
  {
   "cell_type": "markdown",
   "metadata": {},
   "source": [
    "### 2. Write a tokenization function to process your text data"
   ]
  },
  {
   "cell_type": "code",
   "execution_count": 13,
   "metadata": {},
   "outputs": [],
   "source": [
    "\n",
    "def tokenize(text):\n",
    "    tokens = re.sub(r'[^a-zA-Z0-9]',' ', text)\n",
    "    \n",
    "    tokens = word_tokenize(tokens)\n",
    "    \n",
    "    # Remove stop words\n",
    "    tokens = [w for w in tokens if w not in stopwords.words(\"english\")]\n",
    "    #Initialize Stemmer and Lemmatizer\n",
    "    ps = PorterStemmer() \n",
    "    lemmatizer = WordNetLemmatizer()\n",
    "\n",
    "    clean_tokens = []\n",
    "    for tok in tokens:\n",
    "        # Stemming to reduce to a common root\n",
    "        clean_tok = ps.stem(tok).lower().strip()\n",
    "        \n",
    "        #Lemmatizing to reduce to the actual root\n",
    "        clean_tok = lemmatizer.lemmatize(clean_tok).lower().strip()\n",
    "        clean_tokens.append(clean_tok)\n",
    "\n",
    "    return clean_tokens\n",
    "\n"
   ]
  },
  {
   "cell_type": "code",
   "execution_count": 14,
   "metadata": {},
   "outputs": [],
   "source": [
    "class SentenceLengthExtractor(BaseEstimator, TransformerMixin):\n",
    "\n",
    "    def sen_len(self, text):\n",
    "        tokens = nltk.word_tokenize(text)\n",
    "        return len(tokens)\n",
    "\n",
    "    def fit(self, X, y=None):\n",
    "        return self\n",
    "\n",
    "    def transform(self, X):\n",
    "        X_tagged = pd.Series(X).apply(self.sen_len)\n",
    "        return pd.DataFrame(X_tagged)\n"
   ]
  },
  {
   "cell_type": "markdown",
   "metadata": {},
   "source": [
    "### 3. Build a machine learning pipeline\n",
    "This machine pipeline should take in the `message` column as input and output classification results on the other 36 categories in the dataset. You may find the [MultiOutputClassifier](http://scikit-learn.org/stable/modules/generated/sklearn.multioutput.MultiOutputClassifier.html) helpful for predicting multiple target variables."
   ]
  },
  {
   "cell_type": "code",
   "execution_count": 15,
   "metadata": {},
   "outputs": [],
   "source": [
    "    pipeline = Pipeline([\n",
    "                ('c_vect', CountVectorizer(tokenizer=tokenize)),\n",
    "                ('c_tfidf_trans', TfidfTransformer()),\n",
    "                ('c_clf_adabost', MultiOutputClassifier(AdaBoostClassifier(DecisionTreeClassifier(max_depth = 1))))\n",
    "\n",
    "        ])"
   ]
  },
  {
   "cell_type": "markdown",
   "metadata": {},
   "source": [
    "### 4. Train pipeline\n",
    "- Split data into train and test sets\n",
    "- Train pipeline"
   ]
  },
  {
   "cell_type": "code",
   "execution_count": 16,
   "metadata": {},
   "outputs": [],
   "source": [
    "X_train, X_test, y_train, y_test = train_test_split(X, y)"
   ]
  },
  {
   "cell_type": "code",
   "execution_count": 17,
   "metadata": {},
   "outputs": [
    {
     "data": {
      "text/plain": [
       "Pipeline(memory=None,\n",
       "     steps=[('c_vect', CountVectorizer(analyzer='word', binary=False, decode_error='strict',\n",
       "        dtype=<class 'numpy.int64'>, encoding='utf-8', input='content',\n",
       "        lowercase=True, max_df=1.0, max_features=None, min_df=1,\n",
       "        ngram_range=(1, 1), preprocessor=None, stop_words=None,\n",
       "        str...er='best'),\n",
       "          learning_rate=1.0, n_estimators=50, random_state=None),\n",
       "           n_jobs=1))])"
      ]
     },
     "execution_count": 17,
     "metadata": {},
     "output_type": "execute_result"
    }
   ],
   "source": [
    "pipeline.fit(X_train,y_train)"
   ]
  },
  {
   "cell_type": "code",
   "execution_count": 18,
   "metadata": {},
   "outputs": [],
   "source": [
    "y_pred = pipeline.predict(X_test)"
   ]
  },
  {
   "cell_type": "code",
   "execution_count": 19,
   "metadata": {},
   "outputs": [
    {
     "data": {
      "text/plain": [
       "0.22093378089716204"
      ]
     },
     "execution_count": 19,
     "metadata": {},
     "output_type": "execute_result"
    }
   ],
   "source": [
    "pipeline.score(X_test, y_test)"
   ]
  },
  {
   "cell_type": "code",
   "execution_count": 20,
   "metadata": {},
   "outputs": [
    {
     "name": "stdout",
     "output_type": "stream",
     "text": [
      "0.946826365578\n"
     ]
    }
   ],
   "source": [
    "accuracy = ((y_test == y_pred).mean()).values.mean()\n",
    "print(accuracy)"
   ]
  },
  {
   "cell_type": "markdown",
   "metadata": {},
   "source": [
    "### 5. Test your model\n",
    "Report the f1 score, precision and recall for each output category of the dataset. You can do this by iterating through the columns and calling sklearn's `classification_report` on each."
   ]
  },
  {
   "cell_type": "code",
   "execution_count": 21,
   "metadata": {},
   "outputs": [],
   "source": [
    "y_pred = pipeline.predict(X_test)"
   ]
  },
  {
   "cell_type": "code",
   "execution_count": 22,
   "metadata": {},
   "outputs": [
    {
     "name": "stdout",
     "output_type": "stream",
     "text": [
      "['c_clf_adabost',\n",
      " 'c_clf_adabost__estimator',\n",
      " 'c_clf_adabost__estimator__algorithm',\n",
      " 'c_clf_adabost__estimator__base_estimator',\n",
      " 'c_clf_adabost__estimator__base_estimator__class_weight',\n",
      " 'c_clf_adabost__estimator__base_estimator__criterion',\n",
      " 'c_clf_adabost__estimator__base_estimator__max_depth',\n",
      " 'c_clf_adabost__estimator__base_estimator__max_features',\n",
      " 'c_clf_adabost__estimator__base_estimator__max_leaf_nodes',\n",
      " 'c_clf_adabost__estimator__base_estimator__min_impurity_decrease',\n",
      " 'c_clf_adabost__estimator__base_estimator__min_impurity_split',\n",
      " 'c_clf_adabost__estimator__base_estimator__min_samples_leaf',\n",
      " 'c_clf_adabost__estimator__base_estimator__min_samples_split',\n",
      " 'c_clf_adabost__estimator__base_estimator__min_weight_fraction_leaf',\n",
      " 'c_clf_adabost__estimator__base_estimator__presort',\n",
      " 'c_clf_adabost__estimator__base_estimator__random_state',\n",
      " 'c_clf_adabost__estimator__base_estimator__splitter',\n",
      " 'c_clf_adabost__estimator__learning_rate',\n",
      " 'c_clf_adabost__estimator__n_estimators',\n",
      " 'c_clf_adabost__estimator__random_state',\n",
      " 'c_clf_adabost__n_jobs',\n",
      " 'c_tfidf_trans',\n",
      " 'c_tfidf_trans__norm',\n",
      " 'c_tfidf_trans__smooth_idf',\n",
      " 'c_tfidf_trans__sublinear_tf',\n",
      " 'c_tfidf_trans__use_idf',\n",
      " 'c_vect',\n",
      " 'c_vect__analyzer',\n",
      " 'c_vect__binary',\n",
      " 'c_vect__decode_error',\n",
      " 'c_vect__dtype',\n",
      " 'c_vect__encoding',\n",
      " 'c_vect__input',\n",
      " 'c_vect__lowercase',\n",
      " 'c_vect__max_df',\n",
      " 'c_vect__max_features',\n",
      " 'c_vect__min_df',\n",
      " 'c_vect__ngram_range',\n",
      " 'c_vect__preprocessor',\n",
      " 'c_vect__stop_words',\n",
      " 'c_vect__strip_accents',\n",
      " 'c_vect__token_pattern',\n",
      " 'c_vect__tokenizer',\n",
      " 'c_vect__vocabulary',\n",
      " 'memory',\n",
      " 'steps']\n"
     ]
    }
   ],
   "source": [
    "import pprint as pp\n",
    "pp.pprint(sorted(pipeline.get_params().keys()))"
   ]
  },
  {
   "cell_type": "code",
   "execution_count": 23,
   "metadata": {},
   "outputs": [
    {
     "name": "stdout",
     "output_type": "stream",
     "text": [
      "related\n",
      "             precision    recall  f1-score   support\n",
      "\n",
      "          0       0.59      0.08      0.14      1524\n",
      "          1       0.77      0.98      0.86      4975\n",
      "          2       0.43      0.11      0.17        55\n",
      "\n",
      "avg / total       0.73      0.77      0.69      6554\n",
      "\n",
      "request\n",
      "             precision    recall  f1-score   support\n",
      "\n",
      "          0       0.91      0.96      0.93      5398\n",
      "          1       0.74      0.53      0.62      1156\n",
      "\n",
      "avg / total       0.88      0.88      0.88      6554\n",
      "\n",
      "offer\n",
      "             precision    recall  f1-score   support\n",
      "\n",
      "          0       1.00      1.00      1.00      6523\n",
      "          1       0.00      0.00      0.00        31\n",
      "\n",
      "avg / total       0.99      0.99      0.99      6554\n",
      "\n",
      "aid_related\n",
      "             precision    recall  f1-score   support\n",
      "\n",
      "          0       0.76      0.85      0.80      3842\n",
      "          1       0.75      0.62      0.67      2712\n",
      "\n",
      "avg / total       0.75      0.75      0.75      6554\n",
      "\n",
      "medical_help\n",
      "             precision    recall  f1-score   support\n",
      "\n",
      "          0       0.94      0.98      0.96      6052\n",
      "          1       0.58      0.26      0.36       502\n",
      "\n",
      "avg / total       0.91      0.93      0.92      6554\n",
      "\n",
      "medical_products\n",
      "             precision    recall  f1-score   support\n",
      "\n",
      "          0       0.97      0.99      0.98      6242\n",
      "          1       0.60      0.28      0.38       312\n",
      "\n",
      "avg / total       0.95      0.96      0.95      6554\n",
      "\n",
      "search_and_rescue\n",
      "             precision    recall  f1-score   support\n",
      "\n",
      "          0       0.98      1.00      0.99      6381\n",
      "          1       0.64      0.22      0.33       173\n",
      "\n",
      "avg / total       0.97      0.98      0.97      6554\n",
      "\n",
      "security\n",
      "             precision    recall  f1-score   support\n",
      "\n",
      "          0       0.98      1.00      0.99      6435\n",
      "          1       0.32      0.07      0.11       119\n",
      "\n",
      "avg / total       0.97      0.98      0.97      6554\n",
      "\n",
      "military\n",
      "             precision    recall  f1-score   support\n",
      "\n",
      "          0       0.98      0.99      0.99      6341\n",
      "          1       0.60      0.35      0.44       213\n",
      "\n",
      "avg / total       0.97      0.97      0.97      6554\n",
      "\n",
      "child_alone\n",
      "             precision    recall  f1-score   support\n",
      "\n",
      "          0       1.00      1.00      1.00      6554\n",
      "\n",
      "avg / total       1.00      1.00      1.00      6554\n",
      "\n",
      "water\n",
      "             precision    recall  f1-score   support\n",
      "\n",
      "          0       0.97      0.99      0.98      6136\n",
      "          1       0.75      0.56      0.64       418\n",
      "\n",
      "avg / total       0.96      0.96      0.96      6554\n",
      "\n",
      "food\n",
      "             precision    recall  f1-score   support\n",
      "\n",
      "          0       0.96      0.98      0.97      5841\n",
      "          1       0.80      0.65      0.72       713\n",
      "\n",
      "avg / total       0.94      0.94      0.94      6554\n",
      "\n",
      "shelter\n",
      "             precision    recall  f1-score   support\n",
      "\n",
      "          0       0.96      0.98      0.97      5975\n",
      "          1       0.74      0.53      0.62       579\n",
      "\n",
      "avg / total       0.94      0.94      0.94      6554\n",
      "\n",
      "clothing\n",
      "             precision    recall  f1-score   support\n",
      "\n",
      "          0       0.99      1.00      0.99      6434\n",
      "          1       0.69      0.46      0.55       120\n",
      "\n",
      "avg / total       0.98      0.99      0.98      6554\n",
      "\n",
      "money\n",
      "             precision    recall  f1-score   support\n",
      "\n",
      "          0       0.98      0.99      0.99      6397\n",
      "          1       0.58      0.30      0.39       157\n",
      "\n",
      "avg / total       0.97      0.98      0.97      6554\n",
      "\n",
      "missing_people\n",
      "             precision    recall  f1-score   support\n",
      "\n",
      "          0       0.99      1.00      0.99      6475\n",
      "          1       0.29      0.06      0.10        79\n",
      "\n",
      "avg / total       0.98      0.99      0.98      6554\n",
      "\n",
      "refugees\n",
      "             precision    recall  f1-score   support\n",
      "\n",
      "          0       0.98      0.99      0.98      6343\n",
      "          1       0.54      0.29      0.38       211\n",
      "\n",
      "avg / total       0.96      0.97      0.96      6554\n",
      "\n",
      "death\n",
      "             precision    recall  f1-score   support\n",
      "\n",
      "          0       0.98      0.99      0.98      6264\n",
      "          1       0.71      0.46      0.55       290\n",
      "\n",
      "avg / total       0.96      0.97      0.96      6554\n",
      "\n",
      "other_aid\n",
      "             precision    recall  f1-score   support\n",
      "\n",
      "          0       0.88      0.98      0.93      5667\n",
      "          1       0.52      0.15      0.23       887\n",
      "\n",
      "avg / total       0.83      0.87      0.83      6554\n",
      "\n",
      "infrastructure_related\n",
      "             precision    recall  f1-score   support\n",
      "\n",
      "          0       0.94      0.99      0.97      6138\n",
      "          1       0.40      0.10      0.16       416\n",
      "\n",
      "avg / total       0.91      0.93      0.91      6554\n",
      "\n",
      "transport\n",
      "             precision    recall  f1-score   support\n",
      "\n",
      "          0       0.96      0.99      0.98      6247\n",
      "          1       0.70      0.24      0.36       307\n",
      "\n",
      "avg / total       0.95      0.96      0.95      6554\n",
      "\n",
      "buildings\n",
      "             precision    recall  f1-score   support\n",
      "\n",
      "          0       0.97      0.99      0.98      6221\n",
      "          1       0.64      0.42      0.51       333\n",
      "\n",
      "avg / total       0.95      0.96      0.95      6554\n",
      "\n",
      "electricity\n",
      "             precision    recall  f1-score   support\n",
      "\n",
      "          0       0.99      1.00      0.99      6427\n",
      "          1       0.51      0.26      0.34       127\n",
      "\n",
      "avg / total       0.98      0.98      0.98      6554\n",
      "\n",
      "tools\n",
      "             precision    recall  f1-score   support\n",
      "\n",
      "          0       0.99      1.00      1.00      6508\n",
      "          1       0.11      0.02      0.04        46\n",
      "\n",
      "avg / total       0.99      0.99      0.99      6554\n",
      "\n",
      "hospitals\n",
      "             precision    recall  f1-score   support\n",
      "\n",
      "          0       0.99      1.00      0.99      6500\n",
      "          1       0.21      0.11      0.14        54\n",
      "\n",
      "avg / total       0.99      0.99      0.99      6554\n",
      "\n",
      "shops\n",
      "             precision    recall  f1-score   support\n",
      "\n",
      "          0       1.00      1.00      1.00      6526\n",
      "          1       0.00      0.00      0.00        28\n",
      "\n",
      "avg / total       0.99      1.00      0.99      6554\n",
      "\n",
      "aid_centers\n",
      "             precision    recall  f1-score   support\n",
      "\n",
      "          0       0.99      1.00      0.99      6477\n",
      "          1       0.36      0.16      0.22        77\n",
      "\n",
      "avg / total       0.98      0.99      0.98      6554\n",
      "\n",
      "other_infrastructure\n",
      "             precision    recall  f1-score   support\n",
      "\n",
      "          0       0.96      0.99      0.98      6264\n",
      "          1       0.33      0.08      0.13       290\n",
      "\n",
      "avg / total       0.93      0.95      0.94      6554\n",
      "\n",
      "weather_related\n",
      "             precision    recall  f1-score   support\n",
      "\n",
      "          0       0.89      0.96      0.92      4753\n",
      "          1       0.87      0.68      0.76      1801\n",
      "\n",
      "avg / total       0.88      0.88      0.88      6554\n",
      "\n",
      "floods\n",
      "             precision    recall  f1-score   support\n",
      "\n",
      "          0       0.96      0.99      0.98      6006\n",
      "          1       0.83      0.58      0.68       548\n",
      "\n",
      "avg / total       0.95      0.95      0.95      6554\n",
      "\n",
      "storm\n",
      "             precision    recall  f1-score   support\n",
      "\n",
      "          0       0.96      0.98      0.97      5960\n",
      "          1       0.78      0.54      0.64       594\n",
      "\n",
      "avg / total       0.94      0.94      0.94      6554\n",
      "\n",
      "fire\n",
      "             precision    recall  f1-score   support\n",
      "\n",
      "          0       0.99      1.00      0.99      6480\n",
      "          1       0.31      0.12      0.17        74\n",
      "\n",
      "avg / total       0.98      0.99      0.98      6554\n",
      "\n",
      "earthquake\n",
      "             precision    recall  f1-score   support\n",
      "\n",
      "          0       0.98      0.99      0.99      5926\n",
      "          1       0.89      0.81      0.85       628\n",
      "\n",
      "avg / total       0.97      0.97      0.97      6554\n",
      "\n",
      "cold\n",
      "             precision    recall  f1-score   support\n",
      "\n",
      "          0       0.99      1.00      0.99      6426\n",
      "          1       0.69      0.33      0.44       128\n",
      "\n",
      "avg / total       0.98      0.98      0.98      6554\n",
      "\n",
      "other_weather\n",
      "             precision    recall  f1-score   support\n",
      "\n",
      "          0       0.96      0.99      0.97      6213\n",
      "          1       0.52      0.16      0.25       341\n",
      "\n",
      "avg / total       0.93      0.95      0.94      6554\n",
      "\n",
      "direct_report\n",
      "             precision    recall  f1-score   support\n",
      "\n",
      "          0       0.88      0.95      0.91      5285\n",
      "          1       0.68      0.43      0.53      1269\n",
      "\n",
      "avg / total       0.84      0.85      0.84      6554\n",
      "\n"
     ]
    }
   ],
   "source": [
    "for label, pred, col in zip(y_test.values.transpose(), y_pred.transpose(), \n",
    "                                category_names):\n",
    "        print(col)\n",
    "        print(classification_report(label, pred))\n",
    "    "
   ]
  },
  {
   "cell_type": "markdown",
   "metadata": {},
   "source": [
    "### 6. Improve your model\n",
    "Use grid search to find better parameters. "
   ]
  },
  {
   "cell_type": "code",
   "execution_count": 24,
   "metadata": {},
   "outputs": [],
   "source": [
    "parameters = {\n",
    "    'c_clf_adabost__estimator__base_estimator__max_depth' : [1,2,3]\n",
    "}\n",
    "\n",
    "cv = GridSearchCV(estimator=pipeline, param_grid=parameters, cv = 3, n_jobs=-1)"
   ]
  },
  {
   "cell_type": "markdown",
   "metadata": {},
   "source": [
    "### 7. Test your model\n",
    "Show the accuracy, precision, and recall of the tuned model.  \n",
    "\n",
    "Since this project focuses on code quality, process, and  pipelines, there is no minimum performance metric needed to pass. However, make sure to fine tune your models for accuracy, precision and recall to make your project stand out - especially for your portfolio!"
   ]
  },
  {
   "cell_type": "code",
   "execution_count": null,
   "metadata": {},
   "outputs": [],
   "source": [
    "cv.fit(X_train, y_train)"
   ]
  },
  {
   "cell_type": "code",
   "execution_count": null,
   "metadata": {},
   "outputs": [],
   "source": [
    "cv.best_params_"
   ]
  },
  {
   "cell_type": "code",
   "execution_count": null,
   "metadata": {},
   "outputs": [],
   "source": [
    "print(cv.best_score_)\n",
    "print(cv.scorer_)"
   ]
  },
  {
   "cell_type": "markdown",
   "metadata": {},
   "source": [
    "### 8. Try improving your model further. Here are a few ideas:\n",
    "* try other machine learning algorithms\n",
    "* add other features besides the TF-IDF"
   ]
  },
  {
   "cell_type": "code",
   "execution_count": null,
   "metadata": {},
   "outputs": [],
   "source": []
  },
  {
   "cell_type": "markdown",
   "metadata": {},
   "source": [
    "### 9. Export your model as a pickle file"
   ]
  },
  {
   "cell_type": "code",
   "execution_count": null,
   "metadata": {},
   "outputs": [],
   "source": []
  },
  {
   "cell_type": "markdown",
   "metadata": {},
   "source": [
    "### 10. Use this notebook to complete `train.py`\n",
    "Use the template file attached in the Resources folder to write a script that runs the steps above to create a database and export a model based on a new dataset specified by the user."
   ]
  },
  {
   "cell_type": "code",
   "execution_count": null,
   "metadata": {},
   "outputs": [],
   "source": []
  }
 ],
 "metadata": {
  "kernelspec": {
   "display_name": "Python 3",
   "language": "python",
   "name": "python3"
  },
  "language_info": {
   "codemirror_mode": {
    "name": "ipython",
    "version": 3
   },
   "file_extension": ".py",
   "mimetype": "text/x-python",
   "name": "python",
   "nbconvert_exporter": "python",
   "pygments_lexer": "ipython3",
   "version": "3.6.3"
  }
 },
 "nbformat": 4,
 "nbformat_minor": 2
}
